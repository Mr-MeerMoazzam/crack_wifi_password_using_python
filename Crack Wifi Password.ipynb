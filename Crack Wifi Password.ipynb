{
 "cells": [
  {
   "cell_type": "markdown",
   "id": "c5058a18",
   "metadata": {},
   "source": [
    "**Importing Required Module**"
   ]
  },
  {
   "cell_type": "code",
   "execution_count": 21,
   "id": "4803e32a",
   "metadata": {},
   "outputs": [],
   "source": [
    "import subprocess"
   ]
  },
  {
   "cell_type": "markdown",
   "id": "913ffff0",
   "metadata": {},
   "source": [
    "**Storing profiles data into 'data' variable by running 1st cmd command using check_output() function of subprocess module**"
   ]
  },
  {
   "cell_type": "code",
   "execution_count": 22,
   "id": "052621ca",
   "metadata": {},
   "outputs": [],
   "source": [
    "data =subprocess.check_output(['netsh','wlan','show','profiles']).decode('utf-8').split('\\n')"
   ]
  },
  {
   "cell_type": "markdown",
   "id": "ec9dc3a2",
   "metadata": {},
   "source": [
    "**Storing WIFI profiles into a variable 'Profiles' by converting them into a list**"
   ]
  },
  {
   "cell_type": "code",
   "execution_count": 23,
   "id": "2aec06ee",
   "metadata": {},
   "outputs": [],
   "source": [
    "profiles=[i.split(\":\")[1][1:-1] for i in data if \"All User Profile\" in i]"
   ]
  },
  {
   "cell_type": "code",
   "execution_count": 24,
   "id": "2d509486",
   "metadata": {
    "scrolled": true
   },
   "outputs": [
    {
     "data": {
      "text/plain": [
       "['Hun Aram iy',\n",
       " 'TP-Link_34A6',\n",
       " 'AAMIR',\n",
       " 'Wajhat Unicom(ISP) ',\n",
       " 'Air Smart University',\n",
       " 'Nayatel']"
      ]
     },
     "execution_count": 24,
     "metadata": {},
     "output_type": "execute_result"
    }
   ],
   "source": [
    "profiles"
   ]
  },
  {
   "cell_type": "markdown",
   "id": "7118e9b0",
   "metadata": {},
   "source": [
    "**Using For loop to check and print wifi passwords is they are available**"
   ]
  },
  {
   "cell_type": "code",
   "execution_count": 31,
   "id": "068549f4",
   "metadata": {},
   "outputs": [
    {
     "name": "stdout",
     "output_type": "stream",
     "text": [
      "Hun Aram iy                    | trawmhk123\n",
      "TP-Link_34A6                   | pakistan0077\n",
      "AAMIR                          | Pk6125913\n",
      "Wajhat Unicom(ISP)             | wajahat19677\n",
      "Air Smart University           | \n",
      "Nayatel                        | Ahmed8444\n"
     ]
    }
   ],
   "source": [
    "for i in profiles:\n",
    "    #running 2nd cmd command by using check_output()\n",
    "    results=subprocess.check_output(['netsh','wlan','show','profiles',i,'key=clear'])\n",
    "    results=results.decode(\"utf-8\").split(\"\\n\")\n",
    "    #Storing passwords by converting them into a list\n",
    "    results=[b.split(\":\")[1][1:-1] for b in results if \"Key Content\" in b]\n",
    "    #Printing Wifi names and their corresponding passwords using try and except method\n",
    "    try:\n",
    "        print(\"{:<30} | {:<}\".format(i,results[0]))\n",
    "    except IndexError:\n",
    "        print(\"{:<30} | {:<}\".format(i,\"\"))"
   ]
  },
  {
   "cell_type": "code",
   "execution_count": null,
   "id": "112ccdcf",
   "metadata": {},
   "outputs": [],
   "source": []
  }
 ],
 "metadata": {
  "kernelspec": {
   "display_name": "Python 3 (ipykernel)",
   "language": "python",
   "name": "python3"
  },
  "language_info": {
   "codemirror_mode": {
    "name": "ipython",
    "version": 3
   },
   "file_extension": ".py",
   "mimetype": "text/x-python",
   "name": "python",
   "nbconvert_exporter": "python",
   "pygments_lexer": "ipython3",
   "version": "3.9.12"
  }
 },
 "nbformat": 4,
 "nbformat_minor": 5
}
